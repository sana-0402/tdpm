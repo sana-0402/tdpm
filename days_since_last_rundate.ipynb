{
 "cells": [
  {
   "cell_type": "code",
   "execution_count": 1,
   "metadata": {},
   "outputs": [
    {
     "name": "stdout",
     "output_type": "stream",
     "text": [
      "Index(['Unnamed: 0', 'SECCODE', 'LINECODE', 'KMFROM', 'BLOCKNO', 'RUNDATE',\n",
      "       'UN1L', 'UN1R', 'UN2L', 'UN2R', 'AL1L', 'AL1R', 'AL2L', 'AL2R', 'GMT',\n",
      "       'days_since_last_rundate'],\n",
      "      dtype='object')\n",
      "   days_since_last_rundate maintenance_type\n",
      "0                      125              PML\n",
      "1                      125              PML\n",
      "2                      125              PML\n",
      "3                      125              PML\n",
      "4                      125              PML\n",
      "5                      125              PML\n",
      "6                      125              PML\n",
      "7                      125              PML\n",
      "8                      125              PML\n",
      "9                      125              PML\n"
     ]
    }
   ],
   "source": [
    "import pandas as pd\n",
    "\n",
    "# 1. Loading the data\n",
    "df = pd.read_csv('track degradation model  -  data/latest_sd_gmt_with_days.csv')\n",
    "\n",
    "# 2. Inspecting columns\n",
    "print(df.columns)\n",
    "\n",
    "# 3. Defining the classification function\n",
    "def classify_maintenance(days):\n",
    "    if days < 90:\n",
    "        return 'NML'\n",
    "    elif 90 <= days < 180:\n",
    "        return 'PML'\n",
    "    else:\n",
    "        return 'UML'\n",
    "\n",
    "# 4. Applying the function (replace with your actual column name if needed)\n",
    "df['maintenance_type'] = df['days_since_last_rundate'].apply(classify_maintenance)\n",
    "\n",
    "# 5. Checking the result\n",
    "print(df[['days_since_last_rundate', 'maintenance_type']].head(10))\n",
    "\n",
    "# 6. Saving to new CSV\n",
    "df.to_csv('classified_maintenance.csv', index=False)"
   ]
  }
 ],
 "metadata": {
  "kernelspec": {
   "display_name": "Python 3",
   "language": "python",
   "name": "python3"
  },
  "language_info": {
   "codemirror_mode": {
    "name": "ipython",
    "version": 3
   },
   "file_extension": ".py",
   "mimetype": "text/x-python",
   "name": "python",
   "nbconvert_exporter": "python",
   "pygments_lexer": "ipython3",
   "version": "3.13.2"
  }
 },
 "nbformat": 4,
 "nbformat_minor": 2
}
